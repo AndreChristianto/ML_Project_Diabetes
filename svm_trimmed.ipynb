{
 "cells": [
  {
   "cell_type": "code",
   "execution_count": 1,
   "metadata": {},
   "outputs": [],
   "source": [
    "# Import Libraries\n",
    "import pandas as pd\n",
    "from sklearn.model_selection import train_test_split\n",
    "# from xgboost import XGBClassifier\n",
    "from sklearn.neighbors import KNeighborsClassifier as knn\n",
    "from sklearn.model_selection import GridSearchCV\n",
    "from sklearn.metrics import classification_report, confusion_matrix"
   ]
  },
  {
   "cell_type": "code",
   "execution_count": 2,
   "metadata": {},
   "outputs": [],
   "source": [
    "# Read data / csv files\n",
    "a_file_path = './Correlation/regular_corr.csv'\n",
    "b_file_path = './Correlation/rmv_out_corr.csv'\n",
    "d_file_path = './Correlation/normali_corr.csv'\n",
    "\n",
    "a_df = pd.read_csv(a_file_path)\n",
    "b_df = pd.read_csv(b_file_path)\n",
    "d_df = pd.read_csv(d_file_path)"
   ]
  },
  {
   "cell_type": "code",
   "execution_count": 3,
   "metadata": {},
   "outputs": [],
   "source": [
    "# Train Test Split\n",
    "a_X = a_df.drop('diabetes', axis=1)\n",
    "a_y = a_df['diabetes']\n",
    "b_X = b_df.drop('diabetes', axis=1)\n",
    "b_y = b_df['diabetes']\n",
    "d_X = d_df.drop('diabetes', axis=1)\n",
    "d_y = d_df['diabetes']\n",
    "\n",
    "a_X_train, a_X_test, a_y_train, a_y_test = train_test_split(a_X, a_y, test_size=0.2, random_state=1)\n",
    "# a_X_train, a_X_validation, a_y_train, a_y_validation = train_test_split(a_X_train, a_y_train, test_size=0.25, random_state=1)\n",
    "b_X_train, b_X_test, b_y_train, b_y_test = train_test_split(b_X, b_y, test_size=0.2, random_state=1)\n",
    "# b_X_train, b_X_validation, b_y_train, b_y_validation = train_test_split(b_X_train, b_y_train, test_size=0.25, random_state=1)\n",
    "d_X_train, d_X_test, d_y_train, d_y_test = train_test_split(d_X, d_y, test_size=0.2, random_state=1)\n",
    "# d_X_train, d_X_validation, d_y_train, d_y_validation = train_test_split(d_X_train, d_y_train, test_size=0.25, random_state=1)"
   ]
  },
  {
   "cell_type": "code",
   "execution_count": 4,
   "metadata": {},
   "outputs": [
    {
     "name": "stdout",
     "output_type": "stream",
     "text": [
      ">> done fitting\n",
      "algorithm: auto\n",
      "leaf_size: 30\n",
      "metric: minkowski\n",
      "metric_params: None\n",
      "n_jobs: None\n",
      "n_neighbors: 5\n",
      "p: 2\n",
      "weights: uniform\n",
      "Regular best param : {'n_neighbors': 5, 'p': 1, 'weights': 'distance'}\n",
      "Regular Classification Report:\n",
      "               precision    recall  f1-score   support\n",
      "\n",
      "           0       0.83      0.93      0.88      2549\n",
      "           1       0.67      0.41      0.51       844\n",
      "\n",
      "    accuracy                           0.80      3393\n",
      "   macro avg       0.75      0.67      0.69      3393\n",
      "weighted avg       0.79      0.80      0.79      3393\n",
      "\n",
      "Regular Confusion Matrix:\n",
      " [[2381  168]\n",
      " [ 500  344]]\n"
     ]
    }
   ],
   "source": [
    "# Regular\n",
    "a_model = knn()\n",
    "a_model.fit(a_X_train, a_y_train)\n",
    "\n",
    "print(f'>> done fitting')\n",
    "\n",
    "# Uncomment if you want to see the list of available hyperparameters\n",
    "parameter = a_model.get_params()\n",
    "for key, value in parameter.items():\n",
    "    print(f\"{key}: {value}\")\n",
    "\n",
    "# param_grid = {'learning_rate': [0.01, 0.1, 0.2], 'max_depth': [3, 5, 7], 'n_estimators': [50, 100, 150]}\n",
    "param_grid = {'n_neighbors': [3, 5, 7], 'weights': ['uniform', 'distance'], 'p': [1, 2]}\n",
    "a_grid_search = GridSearchCV(knn(), param_grid, cv=5)\n",
    "a_grid_search.fit(a_X_train, a_y_train)\n",
    "a_best_params = a_grid_search.best_params_\n",
    "\n",
    "print(f'Regular best param : {a_best_params}')\n",
    "\n",
    "a_best_model = knn(**a_best_params)\n",
    "a_best_model.fit(a_X_train, a_y_train)\n",
    "a_y_pred = a_best_model.predict(a_X_test)\n",
    "\n",
    "print(\"Regular Classification Report:\\n\", classification_report(a_y_test, a_y_pred))\n",
    "print(\"Regular Confusion Matrix:\\n\", confusion_matrix(a_y_test, a_y_pred))"
   ]
  },
  {
   "cell_type": "code",
   "execution_count": 5,
   "metadata": {},
   "outputs": [
    {
     "name": "stdout",
     "output_type": "stream",
     "text": [
      ">> done fitting\n",
      "algorithm: auto\n",
      "leaf_size: 30\n",
      "metric: minkowski\n",
      "metric_params: None\n",
      "n_jobs: None\n",
      "n_neighbors: 5\n",
      "p: 2\n",
      "weights: uniform\n",
      "Regular best param : {'n_neighbors': 7, 'p': 2, 'weights': 'uniform'}\n",
      "Regular Classification Report:\n",
      "               precision    recall  f1-score   support\n",
      "\n",
      "           0       0.87      0.99      0.92      2454\n",
      "           1       0.26      0.03      0.06       374\n",
      "\n",
      "    accuracy                           0.86      2828\n",
      "   macro avg       0.56      0.51      0.49      2828\n",
      "weighted avg       0.79      0.86      0.81      2828\n",
      "\n",
      "Regular Confusion Matrix:\n",
      " [[2419   35]\n",
      " [ 362   12]]\n"
     ]
    }
   ],
   "source": [
    "# Regular\n",
    "b_model = knn()\n",
    "b_model.fit(b_X_train, b_y_train)\n",
    "\n",
    "print(f'>> done fitting')\n",
    "\n",
    "# Uncomment if you want to see the list of available hyperparameters\n",
    "parameter = b_model.get_params()\n",
    "for key, value in parameter.items():\n",
    "    print(f\"{key}: {value}\")\n",
    "\n",
    "# param_grid = {'learning_rate': [0.01, 0.1, 0.2], 'max_depth': [3, 5, 7], 'n_estimators': [50, 100, 150]}\n",
    "param_grid = {'n_neighbors': [3, 5, 7], 'weights': ['uniform', 'distance'], 'p': [1, 2]}\n",
    "b_grid_search = GridSearchCV(knn(), param_grid, cv=5)\n",
    "b_grid_search.fit(b_X_train, b_y_train)\n",
    "b_best_params = b_grid_search.best_params_\n",
    "\n",
    "print(f'Regular best param : {b_best_params}')\n",
    "\n",
    "b_best_model = knn(**b_best_params)\n",
    "b_best_model.fit(b_X_train, b_y_train)\n",
    "b_y_pred = b_best_model.predict(b_X_test)\n",
    "\n",
    "print(\"Regular Classification Report:\\n\", classification_report(b_y_test, b_y_pred))\n",
    "print(\"Regular Confusion Matrix:\\n\", confusion_matrix(b_y_test, b_y_pred))"
   ]
  },
  {
   "cell_type": "code",
   "execution_count": 6,
   "metadata": {},
   "outputs": [
    {
     "name": "stdout",
     "output_type": "stream",
     "text": [
      ">> done fitting\n",
      "algorithm: auto\n",
      "leaf_size: 30\n",
      "metric: minkowski\n",
      "metric_params: None\n",
      "n_jobs: None\n",
      "n_neighbors: 5\n",
      "p: 2\n",
      "weights: uniform\n",
      "Regular best param : {'n_neighbors': 7, 'p': 1, 'weights': 'uniform'}\n",
      "Regular Classification Report:\n",
      "               precision    recall  f1-score   support\n",
      "\n",
      "           0       0.87      0.99      0.93      2454\n",
      "           1       0.16      0.01      0.02       374\n",
      "\n",
      "    accuracy                           0.86      2828\n",
      "   macro avg       0.51      0.50      0.47      2828\n",
      "weighted avg       0.77      0.86      0.81      2828\n",
      "\n",
      "Regular Confusion Matrix:\n",
      " [[2433   21]\n",
      " [ 370    4]]\n"
     ]
    }
   ],
   "source": [
    "# Regular\n",
    "d_model = knn()\n",
    "d_model.fit(d_X_train, d_y_train)\n",
    "\n",
    "print(f'>> done fitting')\n",
    "\n",
    "# Uncomment if you want to see the list of available hyperparameters\n",
    "parameter = d_model.get_params()\n",
    "for key, value in parameter.items():\n",
    "    print(f\"{key}: {value}\")\n",
    "\n",
    "# param_grid = {'learning_rate': [0.01, 0.1, 0.2], 'max_depth': [3, 5, 7], 'n_estimators': [50, 100, 150]}\n",
    "param_grid = {'n_neighbors': [3, 5, 7], 'weights': ['uniform', 'distance'], 'p': [1, 2]}\n",
    "d_grid_search = GridSearchCV(knn(), param_grid, cv=5)\n",
    "d_grid_search.fit(d_X_train, d_y_train)\n",
    "d_best_params = d_grid_search.best_params_\n",
    "\n",
    "print(f'Regular best param : {d_best_params}')\n",
    "\n",
    "d_best_model = knn(**d_best_params)\n",
    "d_best_model.fit(d_X_train, d_y_train)\n",
    "d_y_pred = d_best_model.predict(d_X_test)\n",
    "\n",
    "print(\"Regular Classification Report:\\n\", classification_report(d_y_test, d_y_pred))\n",
    "print(\"Regular Confusion Matrix:\\n\", confusion_matrix(d_y_test, d_y_pred))"
   ]
  }
 ],
 "metadata": {
  "kernelspec": {
   "display_name": "Python 3",
   "language": "python",
   "name": "python3"
  },
  "language_info": {
   "codemirror_mode": {
    "name": "ipython",
    "version": 3
   },
   "file_extension": ".py",
   "mimetype": "text/x-python",
   "name": "python",
   "nbconvert_exporter": "python",
   "pygments_lexer": "ipython3",
   "version": "3.11.1"
  }
 },
 "nbformat": 4,
 "nbformat_minor": 2
}
